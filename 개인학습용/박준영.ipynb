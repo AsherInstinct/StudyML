{
 "cells": [
  {
   "cell_type": "markdown",
   "metadata": {},
   "source": [
    "### 1번 문제\n",
    "\n",
    "1. 반지름 값을 입력받아 원의 넓이를 구하여 출력하는 프로그램을 구현하세요. π는 3.141592 입니다. 모듈을 사용하여도 됩니다~!!"
   ]
  },
  {
   "cell_type": "code",
   "execution_count": 15,
   "metadata": {},
   "outputs": [
    {
     "name": "stdout",
     "output_type": "stream",
     "text": [
      "3.141592\n"
     ]
    }
   ],
   "source": [
    "r = float(input())\n",
    "pi = 3.141592\n",
    "def circle(r):\n",
    "    area = (r**2) * pi\n",
    "    return area\n",
    "\n",
    "print(circle(r))"
   ]
  },
  {
   "cell_type": "markdown",
   "metadata": {},
   "source": [
    "### 2번문제\n",
    "\n",
    "2. 태양계는 수성, 금성, 지구, 화성, 목성, 토성, 천왕성, 해왕성으로 구성됩니다. 영어 이름은 Mercury, Venus, Earth, Mars, Jupiter,  Saturn, Uranus, Neptune 입니다.  행성의 영어 이름을 입력하면 한글 행성 이름이 출력 되는 프로그램을 구현하세요."
   ]
  },
  {
   "cell_type": "code",
   "execution_count": 1,
   "metadata": {},
   "outputs": [
    {
     "name": "stdout",
     "output_type": "stream",
     "text": [
      "금성\n"
     ]
    }
   ],
   "source": [
    "planet = str(input())\n",
    "Korean = ['수성', '금성', '지구', '화성', '목성', '토성', '천왕성', '해왕성']\n",
    "English = ['Mercury', 'Venus', 'Earth', 'Mars', 'Jupiter',  'Saturn', 'Uranus', 'Neptune']\n",
    "\n",
    "for i in range(0,8):\n",
    "    if  English[i] == planet:\n",
    "        print(Korean[i])\n",
    "    else:\n",
    "        pass"
   ]
  },
  {
   "cell_type": "code",
   "execution_count": null,
   "metadata": {},
   "outputs": [],
   "source": [
    "# 문제의도 : 딕셔너리에 대한 이해\n",
    "solar_sys = {'Merury':'수성', 'Venus':'금성'}"
   ]
  },
  {
   "cell_type": "markdown",
   "metadata": {},
   "source": [
    "### 3번문제\n",
    "\n",
    "3. 입력한 영어 문자열의 단어의 수를 출력하고 입력된 단어를 짝수로 대문자로 변경하여 출력하는 프로그램을 구현하세요. \n",
    "\n",
    "예) I'm going to leave the door open = 7 / \n",
    "I'm GOING to LEAVE the DOOR open\n",
    "*\n"
   ]
  },
  {
   "cell_type": "code",
   "execution_count": 1,
   "metadata": {},
   "outputs": [
    {
     "name": "stdout",
     "output_type": "stream",
     "text": [
      "I'm going to leave the door open = 7\n",
      "I'm GOING to LEAVE the DOOR open\n"
     ]
    }
   ],
   "source": [
    "s = input()\n",
    "sCnt = len(s.split(' '))\n",
    "def alphabet(s):\n",
    "    answer = []\n",
    "    words = s.split(' ')\n",
    "    for i in range(0, len(words)):\n",
    "        w = \"\"   \n",
    "        if i % 2:\n",
    "            w += words[i].upper()\n",
    "        else:\n",
    "            w += words[i]\n",
    "        answer.append(w)\n",
    "    return ' '.join(answer)\n",
    "\n",
    "print(f'{s} = {sCnt}')\n",
    "print(alphabet(s))"
   ]
  },
  {
   "cell_type": "code",
   "execution_count": 4,
   "metadata": {},
   "outputs": [
    {
     "name": "stdout",
     "output_type": "stream",
     "text": [
      "sdf sd fsd fsd f = 5\n",
      "\n"
     ]
    }
   ],
   "source": [
    "s = input()\n",
    "words = s.split(' ')\n",
    "answer = ''\n",
    "for i in range(0, len(words)):\n",
    "    w = \"\"   \n",
    "    if i % 2:\n",
    "        w += words[i].upper()\n",
    "    else:\n",
    "        w += words[i]\n",
    "    answer.join(' '+w)\n",
    "    \n",
    "\n",
    "print(f'{s} = {len(words)}')\n",
    "print(answer)"
   ]
  },
  {
   "cell_type": "markdown",
   "metadata": {},
   "source": [
    "### 4번 문제\n",
    "\n",
    "4. 입력한 수를 거꾸로 출력하는 프로그램을 구현하세요. 예) 1 3 5 7 9 --> 9 7 5 3 1\n"
   ]
  },
  {
   "cell_type": "code",
   "execution_count": 3,
   "metadata": {},
   "outputs": [
    {
     "name": "stdout",
     "output_type": "stream",
     "text": [
      "5 4 3 2 1\n"
     ]
    }
   ],
   "source": [
    "n = input()\n",
    " \n",
    "n_list = list(n)\n",
    "n_list.reverse()\n",
    "\n",
    "print(''.join(n_list))"
   ]
  },
  {
   "cell_type": "markdown",
   "metadata": {},
   "source": [
    "### 5번 문제\n",
    "\n",
    "5. 구구단을 수행할 단번호를 입력하면 그 단의 9까지의 결과를 나열하는 프로그램을 입력하세요. 예) 3 --> 3 6 9 12 15 18 21 24 27"
   ]
  },
  {
   "cell_type": "code",
   "execution_count": 12,
   "metadata": {},
   "outputs": [
    {
     "name": "stdout",
     "output_type": "stream",
     "text": [
      "[5, 10, 15, 20, 25, 30, 35, 40, 45]\n"
     ]
    }
   ],
   "source": [
    "n = int(input())\n",
    "klist = []\n",
    "for i in range(1,10):\n",
    "    ns = n * i\n",
    "    klist.append(ns)\n",
    "\n",
    "print(klist)\n"
   ]
  },
  {
   "cell_type": "code",
   "execution_count": null,
   "metadata": {},
   "outputs": [],
   "source": []
  }
 ],
 "metadata": {
  "kernelspec": {
   "display_name": "Python 3.10.6 64-bit (windows store)",
   "language": "python",
   "name": "python3"
  },
  "language_info": {
   "codemirror_mode": {
    "name": "ipython",
    "version": 3
   },
   "file_extension": ".py",
   "mimetype": "text/x-python",
   "name": "python",
   "nbconvert_exporter": "python",
   "pygments_lexer": "ipython3",
   "version": "3.10.6"
  },
  "orig_nbformat": 4,
  "vscode": {
   "interpreter": {
    "hash": "8bf0d51478355d2251941b3b98616086516a0eddd7c72ee47a3371765770709a"
   }
  }
 },
 "nbformat": 4,
 "nbformat_minor": 2
}
